{
 "cells": [
  {
   "cell_type": "markdown",
   "metadata": {},
   "source": [
    "### used to prefetch and process the data so that it is available during code execution"
   ]
  },
  {
   "cell_type": "code",
   "execution_count": 1,
   "metadata": {
    "collapsed": true
   },
   "outputs": [],
   "source": [
    "from  read_proces_data import *\n",
    "# set variables holding data, sequence length and target values\n",
    "inde_featuress = []\n",
    "# max time steps to roll back\n",
    "sseq_len = []\n",
    "# actual output to predict\n",
    "target_valuess = []\n",
    "max_seq_len = 3259\n",
    "batch_size = 20"
   ]
  },
  {
   "cell_type": "code",
   "execution_count": 2,
   "metadata": {
    "collapsed": true
   },
   "outputs": [],
   "source": [
    "# function to read data from file, \n",
    "# based on maximum seq length add padding,\n",
    "# find independent features and \n",
    "# append to list already containing previously loaded data\n",
    "# also load target values for each seq of input.\n",
    "def data_processing(file_name):\n",
    "    # get features from current indexed file\n",
    "    features = get_train_data(file_name)\n",
    "    # get target values corresponding to this file\n",
    "    target_valuess.append(get_target_values(file_name))\n",
    "    # training features is np array with max size and padding\n",
    "    training_features, s_l = prepare_data(features, max_seq_len)\n",
    "    sseq_len.append(s_l)\n",
    "    # scale features to have 0 mean and 1 variance\n",
    "    scaled_features = feature_scaling(training_features, s_l)\n",
    "    # find independent components from given features\n",
    "    inde_featuress.append(independent_components(scaled_features, s_l))"
   ]
  },
  {
   "cell_type": "code",
   "execution_count": 3,
   "metadata": {},
   "outputs": [
    {
     "name": "stderr",
     "output_type": "stream",
     "text": [
      "/home/gnl/TF/local/lib/python2.7/site-packages/sklearn/decomposition/fastica_.py:118: UserWarning: FastICA did not converge. Consider increasing tolerance or the maximum number of iterations.\n",
      "  warnings.warn('FastICA did not converge. Consider increasing '\n"
     ]
    }
   ],
   "source": [
    "#Load full training data in memory before training starts\n",
    "for file_ in file_dir:\n",
    "    data_processing(file_)"
   ]
  },
  {
   "cell_type": "code",
   "execution_count": 4,
   "metadata": {},
   "outputs": [
    {
     "name": "stdout",
     "output_type": "stream",
     "text": [
      "Stored 'inde_featuress' (list)\n",
      "Stored 'sseq_len' (list)\n",
      "Stored 'target_valuess' (list)\n"
     ]
    }
   ],
   "source": [
    "# store data to avoid reprocessing multiple times\n",
    "%store inde_featuress\n",
    "%store sseq_len\n",
    "%store target_valuess"
   ]
  },
  {
   "cell_type": "code",
   "execution_count": 5,
   "metadata": {
    "collapsed": true
   },
   "outputs": [],
   "source": [
    "#del inde_featuress\n",
    "#del sseq_len\n",
    "#del target_valuess"
   ]
  }
 ],
 "metadata": {
  "kernelspec": {
   "display_name": "Python 2",
   "language": "python",
   "name": "python2"
  },
  "language_info": {
   "codemirror_mode": {
    "name": "ipython",
    "version": 2
   },
   "file_extension": ".py",
   "mimetype": "text/x-python",
   "name": "python",
   "nbconvert_exporter": "python",
   "pygments_lexer": "ipython2",
   "version": "2.7.12"
  }
 },
 "nbformat": 4,
 "nbformat_minor": 2
}
