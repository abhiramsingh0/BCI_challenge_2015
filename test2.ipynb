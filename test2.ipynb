{
 "cells": [
  {
   "cell_type": "code",
   "execution_count": 3,
   "metadata": {
    "collapsed": true
   },
   "outputs": [],
   "source": [
    "from sklearn import metrics\n",
    "import tensorflow as tf\n",
    "from  read_proces_data import *\n",
    "sess = tf.InteractiveSession()"
   ]
  },
  {
   "cell_type": "code",
   "execution_count": 4,
   "metadata": {},
   "outputs": [],
   "source": [
    "# create lstm cell in tensorflow\n",
    "hidden_units = 128\n",
    "lstm_cell = tf.contrib.rnn.BasicLSTMCell(num_units =\\\n",
    "        hidden_units,state_is_tuple=True)\n",
    "\n",
    "batch_size = 60\n",
    "x = tf.placeholder(tf.float32, shape = [batch_size,3259,57])\n",
    "s_len = tf.placeholder(tf.int32,shape=[batch_size])\n",
    "# run lstm over different sequence length\n",
    "output_, state = tf.nn.dynamic_rnn(\\\n",
    "        lstm_cell,\\\n",
    "        x,\\\n",
    "#        initial_state = i_state,\\\n",
    "        sequence_length=s_len,\\\n",
    "        dtype=tf.float32)\n",
    "# take all batch, last output of each batch and full output vector\n",
    "def take_subarray(array , index):\n",
    "    return array[range(0,batch_size),index-1]\n",
    "output = tf.py_func(take_subarray,[output_,s_len],tf.float32)\n",
    "#print output\n",
    "# define final output value\n",
    "target_value = tf.placeholder(tf.float32, shape=[batch_size])\n",
    "# define weights and bias from output of lstm cell to network final output\n",
    "rv1 = tf.truncated_normal([lstm_cell.output_size, 2 * lstm_cell.output_size],\\\n",
    "        stddev=0.1,dtype=tf.float32)\n",
    "Wo1 = tf.Variable(rv1,dtype=tf.float32)\n",
    "\n",
    "rv2 = tf.truncated_normal([2 * lstm_cell.output_size, 1],\\\n",
    "        stddev=0.1,dtype=tf.float32)\n",
    "Wo2 = tf.Variable(rv2,dtype=tf.float32)\n",
    "\n",
    "rb1 = tf.constant(0.1,shape=[2 * lstm_cell.output_size],dtype=tf.float32)\n",
    "b1 = tf.Variable(rb1,dtype=tf.float32)\n",
    "\n",
    "rb2 = tf.constant(0.1,shape=[1],dtype=tf.float32)\n",
    "b2 = tf.Variable(rb2,dtype=tf.float32)\n",
    "# initialize variables\n",
    "# calculate final output\n",
    "\n",
    "s1  = tf.matmul(output, Wo1) + b1\n",
    "o1 = tf.nn.relu(s1)\n",
    "logits  = tf.matmul(o1, Wo2) + b2\n",
    "observed = tf.sigmoid(logits)\n",
    "#observed = tf.nn.relu(logits)\n",
    "\n",
    "# calculate cost as calculated in logistic classification.\n",
    "logistic_cost = tf.reduce_mean(tf.nn.sigmoid_cross_entropy_with_logits(\\\n",
    "        labels = target_value, logits = tf.reshape(logits,[batch_size])))\n",
    "#cost = tf.reduce_mean(-1.0 * target_value * tf.log(observed) - \\\n",
    "#        (1 - target_value) * tf.log(1 - observed))\n",
    "#cost = tf.reduce_mean(-1 * target_value * tf.log(observed))\n",
    "#cost = tf.reduce_mean(tf.square(target_value - observed))\n",
    "# optimize the cost\n",
    "train_step = tf.train.AdamOptimizer(1e-4).minimize(logistic_cost)\n",
    "def threshold_fn(array):\n",
    "    return array >= 0.50\n",
    "obser = tf.py_func(threshold_fn,[observed], tf.bool)\n",
    "observe = tf.cast(obser,tf.float32)\n",
    "\n",
    "sess.run(tf.global_variables_initializer())"
   ]
  },
  {
   "cell_type": "code",
   "execution_count": null,
   "metadata": {
    "scrolled": false
   },
   "outputs": [
    {
     "name": "stdout",
     "output_type": "stream",
     "text": [
      "finding max seq len in train set\n",
      "finding max seq len in test set\n",
      "max s_len found\n"
     ]
    }
   ],
   "source": [
    "# find max no of times to roll back\n",
    "max_seq_len = find_max_seq_len()"
   ]
  },
  {
   "cell_type": "code",
   "execution_count": null,
   "metadata": {},
   "outputs": [
    {
     "name": "stdout",
     "output_type": "stream",
     "text": [
      "iteration 0\n",
      "cost 0.695205\n",
      "f1-score is 0.666667\n",
      "area under curve is 0.500000\n",
      "accuracy 0.500000\n",
      " \n",
      "iteration 50\n",
      "cost 0.688285\n",
      "f1-score is 0.653846\n",
      "area under curve is 0.700000\n",
      "accuracy 0.700000\n",
      " \n",
      "iteration 0\n",
      "cost 0.691629\n",
      "f1-score is 0.691358\n",
      "area under curve is 0.583333\n",
      "accuracy 0.583333\n",
      " \n",
      "iteration 50\n",
      "cost 0.687055\n",
      "f1-score is 0.600000\n",
      "area under curve is 0.600000\n",
      "accuracy 0.600000\n",
      " \n",
      "iteration 0\n",
      "cost 0.697602\n",
      "f1-score is 0.424242\n",
      "area under curve is 0.366667\n",
      "accuracy 0.366667\n",
      " \n",
      "iteration 50\n",
      "cost 0.688700\n",
      "f1-score is 0.566667\n",
      "area under curve is 0.566667\n",
      "accuracy 0.566667\n",
      " \n"
     ]
    }
   ],
   "source": [
    "# number of times to iterate over whole training dataset\n",
    "iter_over_files =  5\n",
    "for itera in range(0, iter_over_files):\n",
    "    for file_ in file_dir:\n",
    "        # get features from current indexed file\n",
    "        features = get_train_data(file_)\n",
    "        # get target values corresponding to this file\n",
    "        target_values = get_target_values(file_)\n",
    "        # training features is np array with max size and padding\n",
    "        training_features, seq_len = prepare_data(features, max_seq_len)\n",
    "        # scale features to have 0 mean and 1 variance\n",
    "        scaled_features = feature_scaling(training_features, batch_size,\\\n",
    "                seq_len)\n",
    "        # find independent components from given features\n",
    "        inde_features = independent_components(scaled_features, batch_size,\\\n",
    "                seq_len)\n",
    "\n",
    "        for i in range(0,100):\n",
    "            tr_fe, sl , tv =\\\n",
    "            sample_data(inde_features,target_values,seq_len,batch_size)\n",
    "\n",
    "            sess.run(train_step, feed_dict = {target_value:tv,\\\n",
    "                    x:tr_fe, s_len:sl})\n",
    "\n",
    "            if i%50 == 0:\n",
    "                print \"iteration %d\"%i\n",
    "                print \"cost %f\"%logistic_cost.eval(feed_dict = {target_value:tv,\\\n",
    "                    x:tr_fe, s_len:sl})\n",
    "\n",
    "                y = observe.eval(feed_dict = {\\\n",
    "                        x:tr_fe, s_len:sl})\n",
    "#        print tv\n",
    "#        print y\n",
    "                f1s = metrics.f1_score(tv,y)\n",
    "                print \"f1-score is %f\"%f1s\n",
    "                fpr, tpr, thresholds = metrics.roc_curve(tv, y, pos_label=1)\n",
    "                auc = metrics.auc(fpr,tpr)\n",
    "                print \"area under curve is %f\"%auc\n",
    "                sk_accuracy = metrics.accuracy_score(tv,y)\n",
    "                print \"accuracy %f\"%sk_accuracy\n",
    "                print \" \"\n",
    "\n",
    "#                yfile = observe.eval(feed_dict = {\\\n",
    "#                        x:inde_features, s_len:seq_len})\n",
    "#\n",
    "#                f1score = metrics.f1_score(target_values,yfile)\n",
    "#                print \"f1-score of file is %f\"%f1score\n",
    "#                fprr, tprr, thresholds = metrics.roc_curve(target_values, yfile, pos_label=1)\n",
    "#                aucc = metrics.auc(fprr,tprr)\n",
    "#                print \"area under curve of file is %f\"%aucc\n",
    "#                sk_acc = metrics.accuracy_score(target_values,yfile)\n",
    "#                print \"accuracy of file is %f\"%sk_acc\n",
    "#                print \" \""
   ]
  },
  {
   "cell_type": "code",
   "execution_count": null,
   "metadata": {
    "collapsed": true
   },
   "outputs": [],
   "source": []
  }
 ],
 "metadata": {
  "kernelspec": {
   "display_name": "Python 2",
   "language": "python",
   "name": "python2"
  },
  "language_info": {
   "codemirror_mode": {
    "name": "ipython",
    "version": 2
   },
   "file_extension": ".py",
   "mimetype": "text/x-python",
   "name": "python",
   "nbconvert_exporter": "python",
   "pygments_lexer": "ipython2",
   "version": "2.7.12"
  }
 },
 "nbformat": 4,
 "nbformat_minor": 2
}
