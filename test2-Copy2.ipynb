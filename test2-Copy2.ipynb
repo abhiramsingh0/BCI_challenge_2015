{
 "cells": [
  {
   "cell_type": "code",
   "execution_count": null,
   "metadata": {
    "collapsed": true
   },
   "outputs": [],
   "source": [
    "% store -r inde_featuress\n",
    "% store -r sseq_len\n",
    "% store -r target_valuess"
   ]
  },
  {
   "cell_type": "code",
   "execution_count": null,
   "metadata": {
    "collapsed": true,
    "scrolled": true
   },
   "outputs": [],
   "source": [
    "total = 0\n",
    "zeros = 0\n",
    "for ind in range(80):\n",
    "    total += target_valuess[ind].shape[0]\n",
    "    zeros += len([i for i,e in enumerate(target_valuess[ind]) if e==1])\n",
    "print (zeros*1.0/total)*100\n",
    "print total"
   ]
  },
  {
   "cell_type": "code",
   "execution_count": null,
   "metadata": {
    "collapsed": true
   },
   "outputs": [],
   "source": [
    "train_batch = np.zeros((5440,3260,57),dtype=np.float32)\n",
    "seq_batch = np.zeros(0)\n",
    "target_batch = np.zeros(0)"
   ]
  },
  {
   "cell_type": "code",
   "execution_count": null,
   "metadata": {
    "collapsed": true
   },
   "outputs": [],
   "source": [
    "current_i = 0\n",
    "for i in range(len(inde_featuress)):\n",
    "    file_len = inde_featuress[i].shape[0]\n",
    "    seq_batch = np.append(seq_batch,sseq_len[i])\n",
    "    target_batch = np.append(target_batch,target_valuess[i])\n",
    "    for j in range(file_len):\n",
    "        train_batch[current_i+j] = inde_featuress[i][j]\n",
    "    current_i += file_len"
   ]
  },
  {
   "cell_type": "code",
   "execution_count": 11,
   "metadata": {},
   "outputs": [
    {
     "name": "stdout",
     "output_type": "stream",
     "text": [
      "(0,)\n"
     ]
    }
   ],
   "source": [
    "del inde_featuress\n",
    "del sseq_len\n",
    "del target_valuess\n",
    "% store train_batch\n",
    "% store seq_batch\n",
    "% store target_batch"
   ]
  },
  {
   "cell_type": "code",
   "execution_count": null,
   "metadata": {
    "collapsed": true
   },
   "outputs": [],
   "source": []
  }
 ],
 "metadata": {
  "kernelspec": {
   "display_name": "Python 2",
   "language": "python",
   "name": "python2"
  },
  "language_info": {
   "codemirror_mode": {
    "name": "ipython",
    "version": 2
   },
   "file_extension": ".py",
   "mimetype": "text/x-python",
   "name": "python",
   "nbconvert_exporter": "python",
   "pygments_lexer": "ipython2",
   "version": "2.7.12"
  }
 },
 "nbformat": 4,
 "nbformat_minor": 2
}
