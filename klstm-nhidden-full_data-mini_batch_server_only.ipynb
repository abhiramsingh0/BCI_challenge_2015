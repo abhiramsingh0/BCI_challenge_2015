{
 "cells": [
  {
   "cell_type": "markdown",
   "metadata": {},
   "source": [
    "#### output weights n layer,  validation set, graph plot, test set, lstm cell stack, preloaded full data before training, fetch data from another notebook, added exection time of 1 epoch and remaining time, training with mini batches."
   ]
  },
  {
   "cell_type": "code",
   "execution_count": 1,
   "metadata": {
    "collapsed": true
   },
   "outputs": [],
   "source": [
    "from sklearn import metrics\n",
    "import tensorflow as tf\n",
    "#import csv\n",
    "#from threading import Thread\n",
    "import time\n",
    "from matplotlib import pyplot as plt\n",
    "from  read_proces_data import *"
   ]
  },
  {
   "cell_type": "code",
   "execution_count": 2,
   "metadata": {
    "collapsed": true
   },
   "outputs": [],
   "source": [
    "# hidden units for lstm\n",
    "hidden_units = 64\n",
    "# Lstm layers\n",
    "num_layers = 1\n",
    "# chunks of input given to lstm at a time for training\n",
    "batch_size = 64\n",
    "# max seq length in training and test data\n",
    "max_seq = 3260\n",
    "# input dimension\n",
    "feature_vec_len = 57"
   ]
  },
  {
   "cell_type": "code",
   "execution_count": 3,
   "metadata": {
    "collapsed": true,
    "scrolled": false
   },
   "outputs": [],
   "source": [
    "# find max no of times to roll back\n",
    "#max_seq_len = find_max_seq_len()\n",
    "#print max_seq_len\n",
    "max_seq_len = 3259"
   ]
  },
  {
   "cell_type": "code",
   "execution_count": 4,
   "metadata": {
    "collapsed": true
   },
   "outputs": [],
   "source": [
    "# use ipython feature to read data from another notebook\n",
    "% store -r inde_featuress\n",
    "% store -r sseq_len\n",
    "% store -r target_valuess"
   ]
  },
  {
   "cell_type": "code",
   "execution_count": 5,
   "metadata": {
    "collapsed": true
   },
   "outputs": [],
   "source": [
    "train_batch = np.zeros((5440,3260,57),dtype=np.float32)\n",
    "seq_batch = np.zeros(0)\n",
    "target_batch = np.zeros(0)"
   ]
  },
  {
   "cell_type": "code",
   "execution_count": 6,
   "metadata": {
    "collapsed": true
   },
   "outputs": [],
   "source": [
    "current_i = 0\n",
    "for i in range(len(inde_featuress)):\n",
    "    file_len = inde_featuress[i].shape[0]\n",
    "    seq_batch = np.append(seq_batch,sseq_len[i])\n",
    "    target_batch = np.append(target_batch,target_valuess[i])\n",
    "    for j in range(file_len):\n",
    "        train_batch[current_i+j] = inde_featuress[i][j]\n",
    "    current_i += file_len"
   ]
  },
  {
   "cell_type": "code",
   "execution_count": 7,
   "metadata": {
    "collapsed": true
   },
   "outputs": [],
   "source": [
    "del inde_featuress\n",
    "del sseq_len\n",
    "del target_valuess"
   ]
  },
  {
   "cell_type": "code",
   "execution_count": 8,
   "metadata": {
    "collapsed": true
   },
   "outputs": [],
   "source": [
    "sess = tf.InteractiveSession()"
   ]
  },
  {
   "cell_type": "code",
   "execution_count": 9,
   "metadata": {
    "collapsed": true
   },
   "outputs": [],
   "source": [
    "# create lstm cell in tensorflow\n",
    "def lstm_cell():\n",
    "    return tf.contrib.rnn.BasicLSTMCell(num_units =\\\n",
    "        hidden_units,state_is_tuple=True)\n",
    "stacked_cell = tf.contrib.rnn.MultiRNNCell(\\\n",
    "        [lstm_cell() for _ in range(num_layers)], \\\n",
    "        state_is_tuple=True)"
   ]
  },
  {
   "cell_type": "code",
   "execution_count": 10,
   "metadata": {
    "scrolled": true
   },
   "outputs": [],
   "source": [
    "x = tf.placeholder(tf.float32, shape = [batch_size,max_seq,feature_vec_len])\n",
    "s_len = tf.placeholder(tf.int32,shape=[batch_size])\n",
    "# run lstm over different sequence length\n",
    "output_, state = tf.nn.dynamic_rnn(\\\n",
    "        stacked_cell,\\\n",
    "        x,\\\n",
    "#        initial_state = i_state,\\\n",
    "        sequence_length=s_len,\\\n",
    "        dtype=tf.float32)\n",
    "# take all batch, last output of each batch and full output vector\n",
    "def take_subarray(array , index):\n",
    "    return array[range(0,batch_size),index-1]\n",
    "output = tf.py_func(take_subarray,[output_,s_len],tf.float32)\n",
    "#print output\n",
    "# define final output value\n",
    "target_value = tf.placeholder(tf.float32, shape=[batch_size])\n",
    "# define weights and bias from output of lstm cell to network final output\n",
    "output_size = stacked_cell.output_size\n",
    "std = 1/np.sqrt(feature_vec_len,dtype=np.float32)\n",
    "\n",
    "def weight_variable(shape):\n",
    "    initial = tf.truncated_normal(shape, stddev=std,dtype=tf.float32)\n",
    "    return tf.Variable(initial,dtype=tf.float32)\n",
    "\n",
    "def bias_variable(shape):\n",
    "    initial = tf.constant(std, shape=shape,dtype=tf.float32)\n",
    "    return tf.Variable(initial,dtype=tf.float32)\n",
    "\n",
    "Wo1 = weight_variable([output_size, 2 * output_size])\n",
    "Wo2 = weight_variable([2*output_size, 2 * output_size])\n",
    "Wo3 = weight_variable([2*output_size, 2 * output_size])\n",
    "Wo4 = weight_variable([2*output_size, 1])\n",
    "\n",
    "b1 = bias_variable([2 * output_size])\n",
    "b2 = bias_variable([2 * output_size])\n",
    "b3 = bias_variable([2 * output_size])\n",
    "b4 = bias_variable([1])\n",
    "\n",
    "# initialize variables\n",
    "# calculate final output\n",
    "\n",
    "s1  = tf.matmul(output, Wo1) + b1\n",
    "o1 = tf.nn.relu(s1)\n",
    "\n",
    "s2  = tf.matmul(o1, Wo2) + b2\n",
    "o2 = tf.nn.relu(s2)\n",
    "\n",
    "s3  = tf.matmul(o2, Wo3) + b3\n",
    "o3 = tf.nn.relu(s3)\n",
    "\n",
    "logits  = tf.matmul(o3, Wo4) + b4\n",
    "observed = tf.sigmoid(logits)\n",
    "#observed = tf.nn.relu(logits)\n",
    "\n",
    "# calculate cost as calculated in logistic classification.\n",
    "logistic_cost = tf.reduce_mean(tf.nn.sigmoid_cross_entropy_with_logits(\\\n",
    "        labels = tf.reshape(target_value,[batch_size,1]), logits = logits))\n",
    "\n",
    "# optimize the cost\n",
    "train_step = tf.train.AdamOptimizer(1e-4).minimize(logistic_cost)\n",
    "\n",
    "def threshold_fn(array):\n",
    "    return array >= 0.50\n",
    "obser = tf.py_func(threshold_fn,[observed], tf.bool)\n",
    "observe = tf.cast(obser,tf.float32)\n",
    "\n",
    "sess.run(tf.global_variables_initializer())"
   ]
  },
  {
   "cell_type": "code",
   "execution_count": 11,
   "metadata": {
    "collapsed": true
   },
   "outputs": [],
   "source": [
    "def calc_metrics(t,y):\n",
    "    \n",
    "    f1score = metrics.f1_score(t,y)\n",
    "    \n",
    "    fprr, tprr, thresholds = metrics.roc_curve(t, y, pos_label=1)\n",
    "    aucc = metrics.auc(fprr,tprr)\n",
    "    \n",
    "    sk_acc = metrics.accuracy_score(t,y)\n",
    "    \n",
    "    return (f1score, aucc, sk_acc)"
   ]
  },
  {
   "cell_type": "code",
   "execution_count": 12,
   "metadata": {
    "collapsed": true
   },
   "outputs": [],
   "source": [
    "def evaluate_(data):\n",
    "    # evaluate on all last 5000 values but\n",
    "    # take only last validation set values\n",
    "    y = sess.run(observe, feed_dict = {\\\n",
    "        x:data[0], s_len:data[1]})\n",
    "\n",
    "    c = sess.run(logistic_cost, feed_dict = {target_value:data[2],\\\n",
    "        x:data[0], s_len:data[1]})\n",
    "    \n",
    "    f1s,auc,acc = calc_metrics(data[2],y)\n",
    "    \n",
    "    epoch_para.append([f1s, auc, acc, c])"
   ]
  },
  {
   "cell_type": "code",
   "execution_count": 13,
   "metadata": {
    "collapsed": true
   },
   "outputs": [],
   "source": [
    "def train_(data):\n",
    "    # train on training data-set\n",
    "    sess.run(train_step, feed_dict = {target_value:data[2],\\\n",
    "            x:data[0], s_len:data[1]})"
   ]
  },
  {
   "cell_type": "code",
   "execution_count": null,
   "metadata": {
    "collapsed": true
   },
   "outputs": [],
   "source": [
    "def plot_parameters(training_p, validation_p):\n",
    "    nu_para = training_p.shape[1]\n",
    "    para_name = ['f1score','auc','accuracy','cost']\n",
    "    for j in range(nu_para):\n",
    "        plt.subplot(nu_para,1,j+1)\n",
    "        plt.plot(training_p[:,j],'r')\n",
    "        plt.plot(validation_p[:,j],'b')\n",
    "        plt.ylabel(para_name[j])\n",
    "        plt.grid()\n",
    "    plt.show()"
   ]
  },
  {
   "cell_type": "code",
   "execution_count": null,
   "metadata": {
    "scrolled": true
   },
   "outputs": [
    {
     "name": "stdout",
     "output_type": "stream",
     "text": [
      "iteration 0\n",
      "training cost: 0.589289\n",
      "validation cost: 0.783935\n",
      "time(in minutes) for 100 iter 4.059786\n",
      "remaining time(in minutes) 202.948677\n"
     ]
    },
    {
     "data": {
      "image/png": "[encoded data removed]",
      "text/plain": [
       "<matplotlib.figure.Figure at 0x7f865ef9e090>"
      ]
     },
     "metadata": {},
     "output_type": "display_data"
    },
    {
     "name": "stdout",
     "output_type": "stream",
     "text": [
      "iteration 100\n",
      "training cost: 0.586276\n",
      "validation cost: 0.763713\n",
      "time(in minutes) for 100 iter 129.971166\n",
      "remaining time(in minutes) 6367.287420\n"
     ]
    },
    {
     "data": {
      "image/png": "[encoded data removed]",
      "text/plain": [
       "<matplotlib.figure.Figure at 0x7f8518644210>"
      ]
     },
     "metadata": {},
     "output_type": "display_data"
    }
   ],
   "source": [
    "# number of times to iterate over whole training dataset    \n",
    "epochs =  5000\n",
    "# train_para and vali_para are storing f1score,auc,accuracy for \n",
    "# train and validation set.\n",
    "train_para = []\n",
    "vali_para = []\n",
    "epoch_para = []\n",
    "\n",
    "val_size = 512\n",
    "train_size = 5440-val_size\n",
    "\n",
    "now_time = time.time()\n",
    "for itera in range(0, epochs):\n",
    "    # train on full training data set\n",
    "    for index in range(0,train_size,batch_size):\n",
    "        end = index+batch_size\n",
    "        train_data = [train_batch[index:end], seq_batch[index:end], target_batch[index:end]]\n",
    "        train_(train_data)\n",
    "        \n",
    "    if 0==itera%100:        \n",
    "        # evaluate on train data\n",
    "        for index in range(0,train_size,batch_size):\n",
    "            end = index+batch_size\n",
    "            train_data = [train_batch[index:end], seq_batch[index:end], target_batch[index:end]]\n",
    "            evaluate_(train_data)\n",
    "        epoch_para = np.asarray(epoch_para)\n",
    "        train_para.append(np.mean(epoch_para,axis=0))\n",
    "        epoch_para = []\n",
    "        # evaluate on validation data\n",
    "        for index in range(train_size,5440,batch_size):\n",
    "            end = index+batch_size\n",
    "            val_data = [train_batch[index:end], seq_batch[index:end], target_batch[index:end]]\n",
    "            evaluate_(val_data)\n",
    "        epoch_para = np.asarray(epoch_para)\n",
    "        vali_para.append(np.mean(epoch_para,axis=0))\n",
    "        epoch_para = []\n",
    "            \n",
    "        print \"iteration %d\"%itera\n",
    "        print \"training cost: %f\"%train_para[-1][-1]\n",
    "        print \"validation cost: %f\"%vali_para[-1][-1]\n",
    "        \n",
    "        time_taken = (time.time()-now_time)/60.0\n",
    "        print \"time(in minutes) for 100 iter %f\"%(time_taken)\n",
    "        print \"remaining time(in minutes) %f\"%((time_taken/100.0)*(epochs-1-itera))\n",
    "        now_time = time.time()\n",
    "        \n",
    "        t_para = np.asarray(train_para)\n",
    "        v_para = np.asarray(vali_para)\n",
    "\n",
    "        plot_parameters(t_para, v_para)"
   ]
  },
  {
   "cell_type": "code",
   "execution_count": null,
   "metadata": {},
   "outputs": [],
   "source": [
    "del train_batch\n",
    "del seq_batch\n",
    "del target_batch"
   ]
  },
  {
   "cell_type": "code",
   "execution_count": null,
   "metadata": {
    "collapsed": true
   },
   "outputs": [],
   "source": [
    "max_seq_len = 3259\n",
    "test_feature = []\n",
    "test_seq = []\n",
    "def data_processing(file_name):\n",
    "    # get features from current indexed file\n",
    "    features = get_test_data(file_name)\n",
    "    # get target values corresponding to this file\n",
    "    #target_valuess.append(get_target_values(file_name))\n",
    "    # training features is np array with max size and padding\n",
    "    training_features, s_l = prepare_data(features, max_seq_len)\n",
    "    test_seq.append(s_l)\n",
    "    # scale features to have 0 mean and 1 variance\n",
    "    scaled_features = feature_scaling(training_features, s_l)\n",
    "    # find independent components from given features\n",
    "    test_feature.append(independent_components(scaled_features, s_l))"
   ]
  },
  {
   "cell_type": "code",
   "execution_count": null,
   "metadata": {
    "scrolled": true
   },
   "outputs": [],
   "source": [
    "for file_ in test_file_dir:\n",
    "    data_processing(file_)"
   ]
  },
  {
   "cell_type": "code",
   "execution_count": null,
   "metadata": {},
   "outputs": [],
   "source": [
    "test_batch = np.zeros((3456,3260,57),dtype=np.float32)\n",
    "test_seq_batch = np.zeros(0)\n",
    "current_i = 0\n",
    "for i in range(len(test_feature)):\n",
    "    file_len = test_feature[i].shape[0]\n",
    "    test_seq_batch = np.append(test_seq_batch,test_seq[i])\n",
    "    #target_batch = np.append(target_batch,target_valuess[i])\n",
    "    for j in range(file_len):\n",
    "        test_batch[current_i+j] = test_feature[i][j]\n",
    "    current_i += file_len"
   ]
  },
  {
   "cell_type": "code",
   "execution_count": null,
   "metadata": {
    "collapsed": true
   },
   "outputs": [],
   "source": [
    "del test_feature\n",
    "del test_seq"
   ]
  },
  {
   "cell_type": "code",
   "execution_count": null,
   "metadata": {},
   "outputs": [],
   "source": [
    "y_pred = np.zeros(0)\n",
    "for index in range(0,3456,batch_size):\n",
    "    end = index+batch_size\n",
    "    y = sess.run(observe, feed_dict = {\\\n",
    "        x:test_batch[index:end],\\\n",
    "        s_len:test_seq_batch[index:end]})\n",
    "    y_pred = np.append(y_pred, y)\n",
    "del test_batch\n",
    "del test_seq_batch\n",
    "y_pred = np.append(y_pred,np.ones(56))"
   ]
  },
  {
   "cell_type": "code",
   "execution_count": null,
   "metadata": {},
   "outputs": [],
   "source": [
    "# predict values for test data set\n",
    "index = 0\n",
    "print ('opening file for write')\n",
    "label = [\"IdFeedBack,Prediction\"]\n",
    "with open('output.csv', 'wb') as csvfile:\n",
    "    spamwriter = csv.writer(csvfile, delimiter=' ')\n",
    "    spamwriter.writerow(label)\n",
    "    for file_ in test_file_dir:\n",
    "        y = np.zeros(0)\n",
    "        if \"Sess05\" in file_:\n",
    "            indices = [\"%03d\" %(i+1) for i in range(100)]\n",
    "        else:\n",
    "            indices = [\"%03d\" %(i+1) for i in range(60)]\n",
    "\n",
    "        for i in range(0,len(indices)):\n",
    "            values = [file_[5:-4]+'_FB'+indices[i]+','+str(int(y_pred[index]))]\n",
    "            index+=1\n",
    "            spamwriter.writerow(values)\n",
    "print ('file write complete')"
   ]
  },
  {
   "cell_type": "code",
   "execution_count": null,
   "metadata": {
    "collapsed": true
   },
   "outputs": [],
   "source": []
  }
 ],
 "metadata": {
  "kernelspec": {
   "display_name": "Python 2",
   "language": "python",
   "name": "python2"
  },
  "language_info": {
   "codemirror_mode": {
    "name": "ipython",
    "version": 2
   },
   "file_extension": ".py",
   "mimetype": "text/x-python",
   "name": "python",
   "nbconvert_exporter": "python",
   "pygments_lexer": "ipython2",
   "version": "2.7.12"
  }
 },
 "nbformat": 4,
 "nbformat_minor": 2
}
