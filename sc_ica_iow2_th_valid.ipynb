{
 "cells": [
  {
   "cell_type": "markdown",
   "metadata": {},
   "source": [
    "## 2 hidden layer at the output over basic thread model and implements validation set also."
   ]
  },
  {
   "cell_type": "code",
   "execution_count": 1,
   "metadata": {
    "collapsed": true
   },
   "outputs": [],
   "source": [
    "from sklearn import metrics\n",
    "import tensorflow as tf\n",
    "import csv\n",
    "from threading import Thread\n",
    "from  read_proces_data import *"
   ]
  },
  {
   "cell_type": "code",
   "execution_count": 2,
   "metadata": {
    "collapsed": true
   },
   "outputs": [],
   "source": [
    "sess = tf.InteractiveSession()"
   ]
  },
  {
   "cell_type": "code",
   "execution_count": 3,
   "metadata": {
    "collapsed": true,
    "scrolled": false
   },
   "outputs": [],
   "source": [
    "# create lstm cell in tensorflow\n",
    "hidden_units = 128\n",
    "lstm_cell = tf.contrib.rnn.BasicLSTMCell(num_units =\\\n",
    "        hidden_units,state_is_tuple=True)\n",
    "\n",
    "batch_size = 20\n",
    "max_seq = 3260\n",
    "feature_vec_len = 57\n",
    "x = tf.placeholder(tf.float32, shape = [batch_size,max_seq,feature_vec_len])\n",
    "s_len = tf.placeholder(tf.int32,shape=[batch_size])\n",
    "# run lstm over different sequence length\n",
    "output_, state = tf.nn.dynamic_rnn(\\\n",
    "        lstm_cell,\\\n",
    "        x,\\\n",
    "#        initial_state = i_state,\\\n",
    "        sequence_length=s_len,\\\n",
    "        dtype=tf.float32)\n",
    "# take all batch, last output of each batch and full output vector\n",
    "def take_subarray(array , index):\n",
    "    return array[range(0,batch_size),index-1]\n",
    "output = tf.py_func(take_subarray,[output_,s_len],tf.float32)\n",
    "#print output\n",
    "# define final output value\n",
    "target_value = tf.placeholder(tf.float32, shape=[batch_size])\n",
    "# define weights and bias from output of lstm cell to network final output\n",
    "rv1 = tf.truncated_normal([lstm_cell.output_size, 2 * lstm_cell.output_size],\\\n",
    "        stddev=0.1,dtype=tf.float32)\n",
    "Wo1 = tf.Variable(rv1,dtype=tf.float32)\n",
    "\n",
    "rv2 = tf.truncated_normal([2 * lstm_cell.output_size, 2 * lstm_cell.output_size],\\\n",
    "        stddev=0.1,dtype=tf.float32)\n",
    "Wo2 = tf.Variable(rv2,dtype=tf.float32)\n",
    "\n",
    "rv3 = tf.truncated_normal([2 * lstm_cell.output_size, 1],\\\n",
    "        stddev=0.1,dtype=tf.float32)\n",
    "Wo3 = tf.Variable(rv3,dtype=tf.float32)\n",
    "\n",
    "rb1 = tf.constant(0.1,shape=[2 * lstm_cell.output_size],dtype=tf.float32)\n",
    "b1 = tf.Variable(rb1,dtype=tf.float32)\n",
    "\n",
    "rb2 = tf.constant(0.1,shape=[2 * lstm_cell.output_size],dtype=tf.float32)\n",
    "b2 = tf.Variable(rb2,dtype=tf.float32)\n",
    "\n",
    "rb3 = tf.constant(0.1,shape=[1],dtype=tf.float32)\n",
    "b3 = tf.Variable(rb3,dtype=tf.float32)\n",
    "# initialize variables\n",
    "# calculate final output\n",
    "\n",
    "s1  = tf.matmul(output, Wo1) + b1\n",
    "o1 = tf.nn.relu(s1)\n",
    "\n",
    "s2  = tf.matmul(o1, Wo2) + b2\n",
    "o2 = tf.nn.relu(s2)\n",
    "\n",
    "logits  = tf.matmul(o2, Wo3) + b3\n",
    "observed = tf.sigmoid(logits)\n",
    "#observed = tf.nn.relu(logits)\n",
    "\n",
    "# calculate cost as calculated in logistic classification.\n",
    "logistic_cost = tf.reduce_mean(tf.nn.sigmoid_cross_entropy_with_logits(\\\n",
    "        labels = tf.reshape(target_value,[batch_size,1]), logits = logits))\n",
    "#cost = tf.reduce_mean(-1.0 * target_value * tf.log(observed) - \\\n",
    "#        (1 - target_value) * tf.log(1 - observed))\n",
    "#cost = tf.reduce_mean(-1 * target_value * tf.log(observed))\n",
    "#cost = tf.reduce_mean(tf.square(target_value - observed))\n",
    "# optimize the cost\n",
    "train_step = tf.train.AdamOptimizer(1e-4).minimize(logistic_cost)\n",
    "def threshold_fn(array):\n",
    "    return array >= 0.50\n",
    "obser = tf.py_func(threshold_fn,[observed], tf.bool)\n",
    "observe = tf.cast(obser,tf.float32)\n",
    "\n",
    "sess.run(tf.global_variables_initializer())"
   ]
  },
  {
   "cell_type": "code",
   "execution_count": 4,
   "metadata": {
    "collapsed": true,
    "scrolled": false
   },
   "outputs": [],
   "source": [
    "# find max no of times to roll back\n",
    "#max_seq_len = find_max_seq_len()\n",
    "#print max_seq_len\n",
    "max_seq_len = 3259"
   ]
  },
  {
   "cell_type": "code",
   "execution_count": 5,
   "metadata": {
    "collapsed": true
   },
   "outputs": [],
   "source": [
    "inde_featuress = []\n",
    "sseq_len = []\n",
    "target_valuess = []\n",
    "def data_processing(file_name):\n",
    "    # get features from current indexed file\n",
    "    features = get_train_data(file_name)\n",
    "    # get target values corresponding to this file\n",
    "    target_valuess.append(get_target_values(file_name))\n",
    "    # training features is np array with max size and padding\n",
    "    training_features, s_l = prepare_data(features, max_seq_len)\n",
    "    sseq_len.append(s_l)\n",
    "    # scale features to have 0 mean and 1 variance\n",
    "    scaled_features = feature_scaling(training_features, batch_size,\\\n",
    "            s_l)\n",
    "    # check if there is any NaN or Inf entries in data\n",
    "    #isnan = np.any(np.isnan(scaled_features))\n",
    "    #if True == isnan:\n",
    "    #    print \"nan entry found for file %s\"%file_\n",
    "    #isinf = np.any(np.isinf(scaled_features))\n",
    "    #if True == isinf:\n",
    "    #    print \"inf entry found for file %s\"%file_\n",
    "    # find independent components from given features\n",
    "    inde_featuress.append(independent_components(scaled_features, batch_size,\\\n",
    "            s_l))"
   ]
  },
  {
   "cell_type": "code",
   "execution_count": 6,
   "metadata": {
    "collapsed": true
   },
   "outputs": [],
   "source": [
    "def file_evaluate(data):\n",
    "    # evaluate over whole file\n",
    "    y = np.zeros(0)\n",
    "    if \"Sess05\" in data[0]:\n",
    "#                print file_\n",
    "#                print inde_features.shape\n",
    "        for index in range(0,100,batch_size):\n",
    "#                    print inde_features[index:index+batch_size].shape                    \n",
    "            #print inde_features.shape\n",
    "            yfile = sess.run(observe, feed_dict = {\\\n",
    "                x:data[1][0][index:index+batch_size], \\\n",
    "                s_len:data[2][0][index:index+batch_size]})\n",
    "            y = np.append(y,yfile)\n",
    "    else:\n",
    "        for index in range(0,60,batch_size):\n",
    "            yfile = sess.run(observe, feed_dict = {\\\n",
    "                x:data[1][0][index:index+batch_size], \\\n",
    "                s_len:data[2][0][index:index+batch_size]})\n",
    "            y = np.append(y,yfile)\n",
    "\n",
    "    f1score = metrics.f1_score(data[3][0],y)\n",
    "#    print \"f1-score of file is %f\"%f1score\n",
    "    fprr, tprr, thresholds = metrics.roc_curve(data[3][0], y, pos_label=1)\n",
    "    aucc = metrics.auc(fprr,tprr)\n",
    "#    print \"area under curve of file is %f\"%aucc\n",
    "    sk_acc = metrics.accuracy_score(data[3][0],y)\n",
    "#    print \"accuracy of file is %f\"%sk_acc\n",
    "#    print \" \"\n",
    "    return (f1score, aucc, sk_acc)"
   ]
  },
  {
   "cell_type": "code",
   "execution_count": 7,
   "metadata": {
    "collapsed": true
   },
   "outputs": [],
   "source": [
    "def train_eval(train_data, val_data):\n",
    "    for i in range(0,1000):\n",
    "        tr_fe, sl , tv =\\\n",
    "        sample_data(train_data[1][0],train_data[3][0],train_data[2][0],batch_size)\n",
    "\n",
    "        sess.run(train_step, feed_dict = {target_value:tv,\\\n",
    "                x:tr_fe, s_len:sl})\n",
    "\n",
    "        if i%500 == 0:\n",
    "            print \"iteration %d\"%i\n",
    "            print \"cost %f\"%sess.run(logistic_cost, feed_dict = {target_value:tv,\\\n",
    "                x:tr_fe, s_len:sl})\n",
    "\n",
    "#            y = sess.run(observe, feed_dict = {x:tr_fe, s_len:sl})            \n",
    "#            f1s = metrics.f1_score(tv,y)\n",
    "#            print \"f1-score is %f\"%f1s\n",
    "#            fpr, tpr, thresholds = metrics.roc_curve(tv, y, pos_label=1)\n",
    "#            auc = metrics.auc(fpr,tpr)\n",
    "#            print \"area under curve is %f\"%auc\n",
    "#            sk_accuracy = metrics.accuracy_score(tv,y)\n",
    "#            print \"accuracy %f\"%sk_accuracy\n",
    "            # collect values to print graph later\n",
    "            t_f1s, t_auc, t_acc = file_evaluate(train_data)\n",
    "            train_para.append([t_f1s, t_auc, t_acc])\n",
    "            # collect values to print graph later\n",
    "            v_f1s, v_auc, v_acc = file_evaluate(val_data)\n",
    "            vali_para.append([v_f1s, v_auc, v_acc])"
   ]
  },
  {
   "cell_type": "code",
   "execution_count": null,
   "metadata": {
    "collapsed": true
   },
   "outputs": [],
   "source": [
    "def plot_parameters(training_p, validation_p):\n",
    "    nu_para = training_p.shape[1]\n",
    "    para_name = ['f1score','auc','accuracy']\n",
    "    for j in range(nu_para):\n",
    "        plt.subplot(nu_para,1,j+1)\n",
    "        plt.plot(training_p[:,j])\n",
    "        plt.plot(validation_p[:,j])\n",
    "        plt.ylabel(para_name[j])\n",
    "    plt.show()"
   ]
  },
  {
   "cell_type": "code",
   "execution_count": null,
   "metadata": {
    "scrolled": true
   },
   "outputs": [
    {
     "name": "stderr",
     "output_type": "stream",
     "text": [
      "/home/gnl/TF/local/lib/python2.7/site-packages/sklearn/decomposition/fastica_.py:118: UserWarning: FastICA did not converge. Consider increasing tolerance or the maximum number of iterations.\n",
      "  warnings.warn('FastICA did not converge. Consider increasing '\n"
     ]
    },
    {
     "name": "stdout",
     "output_type": "stream",
     "text": [
      "iteration 0\n",
      "cost 0.701894\n"
     ]
    },
    {
     "name": "stderr",
     "output_type": "stream",
     "text": [
      "/home/gnl/TF/local/lib/python2.7/site-packages/sklearn/metrics/classification.py:1135: UndefinedMetricWarning: F-score is ill-defined and being set to 0.0 due to no predicted samples.\n",
      "  'precision', 'predicted', average, warn_for)\n"
     ]
    }
   ],
   "source": [
    "# number of times to iterate over whole training dataset\n",
    "check_1_time = 1\n",
    "iter_over_files =  2\n",
    "for itera in range(0, iter_over_files):\n",
    "    dir_len = len(file_dir)\n",
    "    # select file to treat as validation set\n",
    "    val_file_no = np.random.randint(low=0,high=dir_len)\n",
    "    val_file = file_dir[val_file_no]\n",
    "    # train_para and vali_para are storing f1score,auc,accuracy for \n",
    "    # train and validation set.\n",
    "    train_para = []\n",
    "    vali_para = []\n",
    "    \n",
    "    data_thread = Thread(target=data_processing,args=(val_file,))\n",
    "    data_thread.start()\n",
    "    data_thread.join()\n",
    "    # collect validation data in one list to reduce no of parameters\n",
    "    # to pass between functions\n",
    "    val_data = [val_file, inde_featuress, sseq_len, target_valuess]\n",
    "    # reset these so that these can be used in the below call of data_processing\n",
    "    inde_featuress = []\n",
    "    sseq_len = []\n",
    "    target_valuess = []\n",
    "    # iterate over each file and train\n",
    "    for file_ in file_dir:\n",
    "        # do not train on validation file\n",
    "        if file_ == val_file:\n",
    "            continue\n",
    "        data_thread = Thread(target=data_processing,args=(file_,))\n",
    "        data_thread.start()\n",
    "        data_thread.join()\n",
    "        #print \"reading data file %s\"%file_\n",
    "        # collect values to form a list to reduce the parameters to be passed\n",
    "        train_data = [file_, inde_featuress, sseq_len, target_valuess]\n",
    "        # reset the values to be used in next call of either val or train set\n",
    "        inde_featuress = []\n",
    "        sseq_len = []\n",
    "        target_valuess = []\n",
    "        \n",
    "        if 1!=check_1_time:\n",
    "            tr_ev_thread.join()\n",
    "#        print thread_inde_features[0].shape\n",
    "        tr_ev_thread = Thread(target = train_eval, args = \\\n",
    "            (train_data, val_data))\n",
    "        tr_ev_thread.start()\n",
    "        check_1_time = 0\n",
    "        \n",
    "    tr_ev_thread.join()\n",
    "    \n",
    "    t_para = np.asarray(train_para)\n",
    "    v_para = np.asarray(vali_para)\n",
    "    \n",
    "    plot_parameters(t_para, v_para)"
   ]
  },
  {
   "cell_type": "code",
   "execution_count": null,
   "metadata": {
    "collapsed": true
   },
   "outputs": [],
   "source": [
    "print ('opening file for write')\n",
    "label = [\"IdFeedBack,Prediction\"]\n",
    "with open('output.csv', 'wb') as csvfile:\n",
    "    spamwriter = csv.writer(csvfile, delimiter=' ')\n",
    "    spamwriter.writerow(label)\n",
    "\n",
    "    for file_ in test_file_dir:\n",
    "        # get features from current indexed file\n",
    "        features = get_test_data(file_)        \n",
    "        # training features is np array with max size and padding\n",
    "        test_features, seq_len = prepare_data(features, max_seq_len)\n",
    "        # scale features to have 0 mean and 1 variance\n",
    "        scaled_features = feature_scaling(test_features, batch_size,\\\n",
    "                seq_len)\n",
    "        # find independent components from given features\n",
    "        inde_features = independent_components(scaled_features, batch_size,\\\n",
    "                seq_len)\n",
    "        # evaluate over whole file\n",
    "        y = np.zeros(0)\n",
    "        if \"Sess05\" in file_:\n",
    "            indices = [\"%03d\" %(i+1) for i in range(100)]\n",
    "    #        print file_\n",
    "            for index in range(0,100,batch_size):\n",
    "                yfile = observe.eval(feed_dict = {\\\n",
    "                    x:inde_features[index:index+batch_size], \\\n",
    "                    s_len:seq_len[index:index+batch_size]})\n",
    "                y = np.append(y,yfile)\n",
    "        else:\n",
    "            indices = [\"%03d\" %(i+1) for i in range(60)]\n",
    "            for index in range(0,60,batch_size):\n",
    "                yfile = observe.eval(feed_dict = {\\\n",
    "                    x:inde_features[index:index+batch_size], \\\n",
    "                    s_len:seq_len[index:index+batch_size]})\n",
    "                y = np.append(y,yfile)\n",
    "\n",
    "        for i in xrange(0,y.shape[0]):\n",
    "            values = [file_[5:-4]+'_FB'+indices[i]+','+str(int(y[i]))]\n",
    "            spamwriter.writerow(values)\n",
    "print ('file write complete')"
   ]
  },
  {
   "cell_type": "code",
   "execution_count": null,
   "metadata": {
    "collapsed": true
   },
   "outputs": [],
   "source": []
  }
 ],
 "metadata": {
  "kernelspec": {
   "display_name": "Python 2",
   "language": "python",
   "name": "python2"
  },
  "language_info": {
   "codemirror_mode": {
    "name": "ipython",
    "version": 2
   },
   "file_extension": ".py",
   "mimetype": "text/x-python",
   "name": "python",
   "nbconvert_exporter": "python",
   "pygments_lexer": "ipython2",
   "version": "2.7.12"
  }
 },
 "nbformat": 4,
 "nbformat_minor": 2
}
